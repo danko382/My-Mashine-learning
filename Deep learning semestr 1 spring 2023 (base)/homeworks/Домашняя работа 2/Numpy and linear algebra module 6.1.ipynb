{
 "cells": [
  {
   "cell_type": "code",
   "execution_count": 2,
   "metadata": {},
   "outputs": [],
   "source": [
    "import numpy as np"
   ]
  },
  {
   "cell_type": "code",
   "execution_count": 3,
   "metadata": {},
   "outputs": [
    {
     "name": "stdout",
     "output_type": "stream",
     "text": [
      "-8\n"
     ]
    }
   ],
   "source": [
    "#step 6\n",
    "A = np.array([[5, 1, -2, 0], [0, 3, 4, 3], [2, 3, 1, 1]])\n",
    "B = np.array([[1, -3], [2, -2], [3, -1], [0, 0]])\n",
    "C = A.dot(B)\n",
    "print(C.sum())"
   ]
  },
  {
   "cell_type": "code",
   "execution_count": 5,
   "metadata": {},
   "outputs": [],
   "source": [
    "#step 7\n",
    "def no_numpy_mult(first, second):\n",
    "    result = [[0] * len(second[0]) for i in range(len(first))]\n",
    "    for k in range(len(first)):\n",
    "        for t in range(len(second[0])):\n",
    "            temp = 0\n",
    "            for i, j in zip(range(len(first[0])), range(len(second))):\n",
    "                temp += first[k][i] * second[j][t]\n",
    "            result[k][t] = temp\n",
    "\n",
    "    return result\n",
    "\n",
    "def numpy_mult(first, second):\n",
    "\n",
    "    return first.dot(second)      "
   ]
  },
  {
   "cell_type": "code",
   "execution_count": 6,
   "metadata": {},
   "outputs": [],
   "source": [
    "#step 8\n",
    "def no_numpy_scalar(v1, v2):\n",
    "    return sum(list([i*j for i, j in zip(v1, v2)]))\n",
    "\n",
    "def numpy_scalar(v1, v2):\n",
    "    return v1.dot(v2)"
   ]
  },
  {
   "cell_type": "code",
   "execution_count": 7,
   "metadata": {},
   "outputs": [
    {
     "data": {
      "text/plain": [
       "6"
      ]
     },
     "execution_count": 7,
     "metadata": {},
     "output_type": "execute_result"
    }
   ],
   "source": [
    "def diag_2k(a):\n",
    "    b = np.diag(a)\n",
    "    b = b[b % 2 == 0]\n",
    "    return np.sum(b)\n",
    "a = [[i for i in range(5)] for j in range(5)]\n",
    "a = np.array(a)\n",
    "diag_2k(a)"
   ]
  },
  {
   "cell_type": "code",
   "execution_count": 8,
   "metadata": {},
   "outputs": [
    {
     "data": {
      "text/plain": [
       "(array([[0, 1, 2, 3, 4],\n",
       "        [0, 1, 2, 3, 4],\n",
       "        [0, 1, 2, 3, 4],\n",
       "        [0, 1, 2, 3, 4],\n",
       "        [0, 1, 2, 3, 4]]),\n",
       " array([[ 0,  1,  3,  6, 10],\n",
       "        [ 0,  1,  3,  6, 10],\n",
       "        [ 0,  1,  3,  6, 10],\n",
       "        [ 0,  1,  3,  6, 10],\n",
       "        [ 0,  1,  3,  6, 10]]))"
      ]
     },
     "execution_count": 8,
     "metadata": {},
     "output_type": "execute_result"
    }
   ],
   "source": [
    "#step 10\n",
    "def cumsum(A):\n",
    "    res = np.cumsum(A, axis=1)\n",
    "    return res\n",
    "a, cumsum(a)\n",
    "\n",
    "    "
   ]
  },
  {
   "cell_type": "code",
   "execution_count": 9,
   "metadata": {},
   "outputs": [
    {
     "data": {
      "text/plain": [
       "array([[ 0,  1,  2,  3,  4, 64,  1,  8,  1,  0],\n",
       "       [ 0,  1,  2,  3,  4, 64,  1,  8,  1,  0],\n",
       "       [ 0,  1,  2,  3,  4, 64,  1,  8,  1,  0],\n",
       "       [ 0,  1,  2,  3,  4, 64,  1,  8,  1,  0],\n",
       "       [ 0,  1,  2,  3,  4, 64,  1,  8,  1,  0]])"
      ]
     },
     "execution_count": 9,
     "metadata": {},
     "output_type": "execute_result"
    }
   ],
   "source": [
    "#step 11\n",
    "def transform(X, a=1):\n",
    "    T1 = X[:,::2]**3\n",
    "    T2 = np.where(X[:,1::2], a, 0)\n",
    "    T3 = np.zeros(shape=X.shape, dtype=X.dtype)\n",
    "    T3[:,::2] = T1[:,:]\n",
    "    T3[:,1::2] = T2[:, :]\n",
    "    T3[:, :] = T3[:, ::-1]\n",
    "    result = np.hstack([X, T3])\n",
    "    return result\n",
    "\n",
    "b = transform(a)\n",
    "b"
   ]
  },
  {
   "cell_type": "code",
   "execution_count": 12,
   "metadata": {},
   "outputs": [
    {
     "data": {
      "text/plain": [
       "([1, 2, 3, 1, 5, 2, 3], [1, 2, 2, 2, 2, 1, 2])"
      ]
     },
     "execution_count": 12,
     "metadata": {},
     "output_type": "execute_result"
    }
   ],
   "source": [
    "#step 12 решение говно, конечно\n",
    "def encode(a):\n",
    "    elements = []\n",
    "    counts = []\n",
    "    temp = a[0]\n",
    "    count = 0\n",
    "    for i in a:\n",
    "        if temp == i:\n",
    "            count += 1\n",
    "        else:\n",
    "            elements.append(temp)\n",
    "            counts.append(count)\n",
    "            count = 1\n",
    "            temp = i\n",
    "    elements.append(temp)\n",
    "    counts.append(count)        \n",
    "    return (elements, counts)        \n",
    "\n",
    "X = np.array([1, 2, 2, 3, 3, 1, 1, 5, 5, 2, 3, 3])\n",
    "c = encode(X)\n",
    "c\n"
   ]
  }
 ],
 "metadata": {
  "kernelspec": {
   "display_name": "Python 3",
   "language": "python",
   "name": "python3"
  },
  "language_info": {
   "codemirror_mode": {
    "name": "ipython",
    "version": 3
   },
   "file_extension": ".py",
   "mimetype": "text/x-python",
   "name": "python",
   "nbconvert_exporter": "python",
   "pygments_lexer": "ipython3",
   "version": "3.11.1"
  },
  "orig_nbformat": 4
 },
 "nbformat": 4,
 "nbformat_minor": 2
}

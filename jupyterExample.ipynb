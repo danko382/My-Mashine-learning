{
 "cells": [
  {
   "cell_type": "code",
   "execution_count": null,
   "metadata": {},
   "outputs": [],
   "source": []
  }
 ],
 "metadata": {
  "kernelspec": {
   "display_name": "Python 3",
   "language": "python",
   "name": "python3"
  },
  "language_info": {
   "name": "python",
   "version": "3.11.1"
  },
  "orig_nbformat": 4,
  "vscode": {
   "interpreter": {
    "hash": "425a13fe40bf662cb992669778ec180c030efae3b93b5d9f1d75de90a3d3db8f"
   }
  }
 },
 "nbformat": 4,
 "nbformat_minor": 2
}
